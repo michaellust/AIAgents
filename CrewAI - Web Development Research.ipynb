{
 "cells": [
  {
   "cell_type": "code",
   "execution_count": 1,
   "id": "4305de9a",
   "metadata": {},
   "outputs": [],
   "source": [
    "# pip install crewai"
   ]
  },
  {
   "cell_type": "code",
   "execution_count": 2,
   "id": "f9101359",
   "metadata": {},
   "outputs": [],
   "source": [
    "from crewai import Agent, Task, Crew, Process"
   ]
  },
  {
   "cell_type": "code",
   "execution_count": 3,
   "id": "2736e4bd",
   "metadata": {},
   "outputs": [],
   "source": [
    "# pip install -U langchain-community"
   ]
  },
  {
   "cell_type": "code",
   "execution_count": 4,
   "id": "f0c1f22b",
   "metadata": {},
   "outputs": [],
   "source": [
    "from langchain_community.llms import Ollama"
   ]
  },
  {
   "cell_type": "code",
   "execution_count": 5,
   "id": "f5566efc",
   "metadata": {},
   "outputs": [],
   "source": [
    "# import os\n",
    "# os.system(\"ollama run mistral\")"
   ]
  },
  {
   "cell_type": "markdown",
   "id": "a93fc77c",
   "metadata": {},
   "source": [
    "## Web Development Research"
   ]
  },
  {
   "cell_type": "code",
   "execution_count": 6,
   "id": "29b77a36",
   "metadata": {},
   "outputs": [],
   "source": [
    "mistral = Ollama(model = \"mistral\")\n",
    "topic = \"web development\""
   ]
  },
  {
   "cell_type": "code",
   "execution_count": 7,
   "id": "313b7b3c",
   "metadata": {},
   "outputs": [],
   "source": [
    "# Define Agents\n",
    "research_agent = Agent(role = \"researcher\",\n",
    "                      goal = f\"from your memory, gather relevant information about how an expert at {topic} would approach a project.\",\n",
    "                      backstory = f\"You are an AI assistant that extracts relevant information to {topic} experts from your knowledge base.\",\n",
    "                      verbose = False, #True: Chatbot will give more wordy answers; False: Chatbot will give concise answers.\n",
    "                      allow_delegation = False, #Should almost always be false. We do not want the agent to delegate research to other agents.\n",
    "                      llm = mistral)\n",
    "\n",
    "prompt_agent = Agent(role = \"prompt engineer\",\n",
    "                      goal = f\"Write a single structured prompted in markdown explaining how world-class {topic} expert would approach a project.\",\n",
    "                      backstory = f\"You are an AI assistant that writes a single prompt explaining how world-class {topic} expert would approach a project.\",\n",
    "                      verbose = False, #True: Chatbot will give more wordy answers; False: Chatbot will give concise answers.\n",
    "                      allow_delegation = False, #Should almost always be false. We do not want the agent to delegate research to other agents.\n",
    "                      llm = mistral)"
   ]
  },
  {
   "cell_type": "code",
   "execution_count": 8,
   "id": "ad2aea37",
   "metadata": {},
   "outputs": [],
   "source": [
    "# Define Tasks\n",
    "gather_info = Task(description = \"From your knowledge base, collect relevant information about {topic} experts.\",\n",
    "                  agent = research_agent,\n",
    "                  expected_output = f\"A clear list of key points related to {topic} answers and how they work\",\n",
    "                  )\n",
    "\n",
    "write_prompt = Task(description = f\"Write a single structured prompted in markdown explaining how world-class {topic} expert would approach a project.\",\n",
    "                  agent = prompt_agent,\n",
    "                  expected_output = f\"A single structured prompted in markdown explaining how world-class {topic} expert would approach a project.\",\n",
    "                  )"
   ]
  },
  {
   "cell_type": "code",
   "execution_count": 9,
   "id": "9aeedbe5",
   "metadata": {},
   "outputs": [
    {
     "name": "stdout",
     "output_type": "stream",
     "text": [
      "\u001b[1m\u001b[95m [DEBUG]: == Working Agent: prompt engineer\u001b[00m\n",
      "\u001b[1m\u001b[95m [INFO]: == Starting Task: Write a single structured prompted in markdown explaining how world-class web development expert would approach a project.\u001b[00m\n",
      "\n",
      "\n",
      "\u001b[1m> Entering new CrewAgentExecutor chain...\u001b[0m\n",
      "\u001b[32;1m\u001b[1;3m I now can give a great answer\n",
      "\n",
      "Final Answer:\n",
      "\n",
      "```markdown\n",
      "## World-Class Web Development Project Approach\n",
      "\n",
      "A world-class web development project requires a meticulous and well-thought-out approach to ensure the delivery of high-quality, scalable, and maintainable web applications. Here's how an expert in this field would tackle such a project:\n",
      "\n",
      "### 1. Define Objectives & Success Metrics\n",
      "\n",
      "First, an expert establishes clear objectives for the project. These objectives will guide the development process and ultimately define success metrics for the project. Key performance indicators (KPIs) and success metrics are identified to measure progress and determine whether the project has been successful.\n",
      "\n",
      "### 2. Conduct Discovery & Research\n",
      "\n",
      "An expert then conducts thorough research and discovery, identifying the target audience, competitors, market trends, user personas, and technology stack. This comprehensive understanding lays the groundwork for an effective web development strategy.\n",
      "\n",
      "### 3. Design & Prototyping\n",
      "\n",
      "Next, the expert designs wireframes, mockups, and prototypes to ensure a visually appealing and user-friendly interface. The focus is on creating an intuitive user experience that aligns with the project objectives and user personas.\n",
      "\n",
      "### 4. Develop Frontend & Backend\n",
      "\n",
      "With the design finalized, an expert then develops both the frontend (user interface) and backend (server-side logic). They use modern web development technologies and frameworks to create a responsive, interactive, and dynamic web application that caters to user needs and preferences.\n",
      "\n",
      "### 5. Testing & Quality Assurance\n",
      "\n",
      "Rigorous testing is essential in the development process, ensuring that all aspects of the application are functioning optimally. Testing includes unit tests, integration tests, end-to-end tests, accessibility tests, and performance tests to identify any bugs or issues.\n",
      "\n",
      "### 6. Deployment & Launch\n",
      "\n",
      "Upon successful testing, an expert deploys the web application and makes it live for users to access. They also ensure proper server configuration, security measures, and monitoring tools are in place to maintain optimal performance and uptime.\n",
      "\n",
      "### 7. Maintenance & Upgrades\n",
      "\n",
      "Finally, regular maintenance and upgrades are crucial to keep the web application running smoothly and up-to-date with new technologies and user requirements. This includes applying patches, updates, and enhancements as needed.\n",
      "```\u001b[0m\n",
      "\n",
      "\u001b[1m> Finished chain.\u001b[0m\n",
      "\u001b[1m\u001b[92m [DEBUG]: == [prompt engineer] Task output: ```markdown\n",
      "## World-Class Web Development Project Approach\n",
      "\n",
      "A world-class web development project requires a meticulous and well-thought-out approach to ensure the delivery of high-quality, scalable, and maintainable web applications. Here's how an expert in this field would tackle such a project:\n",
      "\n",
      "### 1. Define Objectives & Success Metrics\n",
      "\n",
      "First, an expert establishes clear objectives for the project. These objectives will guide the development process and ultimately define success metrics for the project. Key performance indicators (KPIs) and success metrics are identified to measure progress and determine whether the project has been successful.\n",
      "\n",
      "### 2. Conduct Discovery & Research\n",
      "\n",
      "An expert then conducts thorough research and discovery, identifying the target audience, competitors, market trends, user personas, and technology stack. This comprehensive understanding lays the groundwork for an effective web development strategy.\n",
      "\n",
      "### 3. Design & Prototyping\n",
      "\n",
      "Next, the expert designs wireframes, mockups, and prototypes to ensure a visually appealing and user-friendly interface. The focus is on creating an intuitive user experience that aligns with the project objectives and user personas.\n",
      "\n",
      "### 4. Develop Frontend & Backend\n",
      "\n",
      "With the design finalized, an expert then develops both the frontend (user interface) and backend (server-side logic). They use modern web development technologies and frameworks to create a responsive, interactive, and dynamic web application that caters to user needs and preferences.\n",
      "\n",
      "### 5. Testing & Quality Assurance\n",
      "\n",
      "Rigorous testing is essential in the development process, ensuring that all aspects of the application are functioning optimally. Testing includes unit tests, integration tests, end-to-end tests, accessibility tests, and performance tests to identify any bugs or issues.\n",
      "\n",
      "### 6. Deployment & Launch\n",
      "\n",
      "Upon successful testing, an expert deploys the web application and makes it live for users to access. They also ensure proper server configuration, security measures, and monitoring tools are in place to maintain optimal performance and uptime.\n",
      "\n",
      "### 7. Maintenance & Upgrades\n",
      "\n",
      "Finally, regular maintenance and upgrades are crucial to keep the web application running smoothly and up-to-date with new technologies and user requirements. This includes applying patches, updates, and enhancements as needed.\n",
      "```\n",
      "\n",
      "\u001b[00m\n",
      "\u001b[1m\u001b[95m [DEBUG]: == Working Agent: researcher\u001b[00m\n",
      "\u001b[1m\u001b[95m [INFO]: == Starting Task: From your knowledge base, collect relevant information about {topic} experts.\u001b[00m\n",
      "\n",
      "\n",
      "\u001b[1m> Entering new CrewAgentExecutor chain...\u001b[0m\n",
      "\u001b[32;1m\u001b[1;3m I now can give a great answer\n",
      "Final Answer:\n",
      "\n",
      "A world-class web development project requires a meticulous and well-thought-out approach from an expert in this field to ensure the delivery of high-quality, scalable, and maintainable web applications. Here's how an expert would tackle such a project:\n",
      "\n",
      "1. **Define Objectives & Success Metrics:** The first step is to establish clear objectives for the project. These objectives will guide the development process and ultimately define success metrics for the project. Key performance indicators (KPIs) and success metrics are identified to measure progress and determine whether the project has been successful.\n",
      "\n",
      "2. **Conduct Discovery & Research:** An expert then conducts thorough research and discovery, identifying the target audience, competitors, market trends, user personas, and technology stack. This comprehensive understanding lays the groundwork for an effective web development strategy.\n",
      "\n",
      "3. **Design & Prototyping:** With a solid foundation in place, the expert designs wireframes, mockups, and prototypes to ensure a visually appealing and user-friendly interface. The focus is on creating an intuitive user experience that aligns with the project objectives and user personas.\n",
      "\n",
      "4. **Develop Frontend & Backend:** Using modern web development technologies and frameworks, the expert then develops both the frontend (user interface) and backend (server-side logic). They create a responsive, interactive, and dynamic web application that caters to user needs and preferences.\n",
      "\n",
      "5. **Testing & Quality Assurance:** Rigorous testing is essential in the development process to ensure all aspects of the application are functioning optimally. Testing includes unit tests, integration tests, end-to-end tests, accessibility tests, and performance tests to identify any bugs or issues that may impact user experience or functionality.\n",
      "\n",
      "6. **Deployment & Launch:** Upon successful testing, the web application is deployed and made live for users to access. Proper server configuration, security measures, and monitoring tools are put in place to maintain optimal performance and uptime.\n",
      "\n",
      "7. **Maintenance & Upgrades:** Regular maintenance and upgrades are crucial to keep the web application running smoothly and up-to-date with new technologies and user requirements. This includes applying patches, updates, and enhancements as needed, ensuring the application remains functional and relevant for its users.\u001b[0m\n",
      "\n",
      "\u001b[1m> Finished chain.\u001b[0m\n",
      "\u001b[1m\u001b[92m [DEBUG]: == [researcher] Task output: A world-class web development project requires a meticulous and well-thought-out approach from an expert in this field to ensure the delivery of high-quality, scalable, and maintainable web applications. Here's how an expert would tackle such a project:\n",
      "\n",
      "1. **Define Objectives & Success Metrics:** The first step is to establish clear objectives for the project. These objectives will guide the development process and ultimately define success metrics for the project. Key performance indicators (KPIs) and success metrics are identified to measure progress and determine whether the project has been successful.\n",
      "\n",
      "2. **Conduct Discovery & Research:** An expert then conducts thorough research and discovery, identifying the target audience, competitors, market trends, user personas, and technology stack. This comprehensive understanding lays the groundwork for an effective web development strategy.\n",
      "\n",
      "3. **Design & Prototyping:** With a solid foundation in place, the expert designs wireframes, mockups, and prototypes to ensure a visually appealing and user-friendly interface. The focus is on creating an intuitive user experience that aligns with the project objectives and user personas.\n",
      "\n",
      "4. **Develop Frontend & Backend:** Using modern web development technologies and frameworks, the expert then develops both the frontend (user interface) and backend (server-side logic). They create a responsive, interactive, and dynamic web application that caters to user needs and preferences.\n",
      "\n",
      "5. **Testing & Quality Assurance:** Rigorous testing is essential in the development process to ensure all aspects of the application are functioning optimally. Testing includes unit tests, integration tests, end-to-end tests, accessibility tests, and performance tests to identify any bugs or issues that may impact user experience or functionality.\n",
      "\n",
      "6. **Deployment & Launch:** Upon successful testing, the web application is deployed and made live for users to access. Proper server configuration, security measures, and monitoring tools are put in place to maintain optimal performance and uptime.\n",
      "\n",
      "7. **Maintenance & Upgrades:** Regular maintenance and upgrades are crucial to keep the web application running smoothly and up-to-date with new technologies and user requirements. This includes applying patches, updates, and enhancements as needed, ensuring the application remains functional and relevant for its users.\n",
      "\n",
      "\u001b[00m\n",
      "A world-class web development project requires a meticulous and well-thought-out approach from an expert in this field to ensure the delivery of high-quality, scalable, and maintainable web applications. Here's how an expert would tackle such a project:\n",
      "\n",
      "1. **Define Objectives & Success Metrics:** The first step is to establish clear objectives for the project. These objectives will guide the development process and ultimately define success metrics for the project. Key performance indicators (KPIs) and success metrics are identified to measure progress and determine whether the project has been successful.\n",
      "\n",
      "2. **Conduct Discovery & Research:** An expert then conducts thorough research and discovery, identifying the target audience, competitors, market trends, user personas, and technology stack. This comprehensive understanding lays the groundwork for an effective web development strategy.\n",
      "\n",
      "3. **Design & Prototyping:** With a solid foundation in place, the expert designs wireframes, mockups, and prototypes to ensure a visually appealing and user-friendly interface. The focus is on creating an intuitive user experience that aligns with the project objectives and user personas.\n",
      "\n",
      "4. **Develop Frontend & Backend:** Using modern web development technologies and frameworks, the expert then develops both the frontend (user interface) and backend (server-side logic). They create a responsive, interactive, and dynamic web application that caters to user needs and preferences.\n",
      "\n",
      "5. **Testing & Quality Assurance:** Rigorous testing is essential in the development process to ensure all aspects of the application are functioning optimally. Testing includes unit tests, integration tests, end-to-end tests, accessibility tests, and performance tests to identify any bugs or issues that may impact user experience or functionality.\n",
      "\n",
      "6. **Deployment & Launch:** Upon successful testing, the web application is deployed and made live for users to access. Proper server configuration, security measures, and monitoring tools are put in place to maintain optimal performance and uptime.\n",
      "\n",
      "7. **Maintenance & Upgrades:** Regular maintenance and upgrades are crucial to keep the web application running smoothly and up-to-date with new technologies and user requirements. This includes applying patches, updates, and enhancements as needed, ensuring the application remains functional and relevant for its users.\n"
     ]
    }
   ],
   "source": [
    "#Define Crew\n",
    "crew = Crew(agents = {research_agent, prompt_agent},\n",
    "           tasks = {gather_info, write_prompt},\n",
    "           verbose = 2,\n",
    "           process = Process.sequential\n",
    "           )\n",
    "\n",
    "output = crew.kickoff()\n",
    "print(output)"
   ]
  },
  {
   "cell_type": "markdown",
   "id": "2d9d5f06",
   "metadata": {},
   "source": []
  }
 ],
 "metadata": {
  "kernelspec": {
   "display_name": "Python 3 (ipykernel)",
   "language": "python",
   "name": "python3"
  },
  "language_info": {
   "codemirror_mode": {
    "name": "ipython",
    "version": 3
   },
   "file_extension": ".py",
   "mimetype": "text/x-python",
   "name": "python",
   "nbconvert_exporter": "python",
   "pygments_lexer": "ipython3",
   "version": "3.11.5"
  }
 },
 "nbformat": 4,
 "nbformat_minor": 5
}
